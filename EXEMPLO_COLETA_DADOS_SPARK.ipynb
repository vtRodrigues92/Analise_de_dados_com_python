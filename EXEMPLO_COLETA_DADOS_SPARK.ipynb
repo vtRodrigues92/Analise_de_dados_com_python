{
  "nbformat": 4,
  "nbformat_minor": 0,
  "metadata": {
    "colab": {
      "name": "EXEMPLO_COLETA_DADOS_SPARK.ipynb",
      "provenance": [],
      "collapsed_sections": [
        "bec0JX0BCV9U",
        "2u7-GofPDRw2",
        "AhJRv2c6EItz",
        "HGmzmsP2FH1E"
      ],
      "toc_visible": true,
      "authorship_tag": "ABX9TyPo13hnE0wyEyBPLRxGQiOE",
      "include_colab_link": true
    },
    "kernelspec": {
      "name": "python3",
      "display_name": "Python 3"
    },
    "language_info": {
      "name": "python"
    }
  },
  "cells": [
    {
      "cell_type": "markdown",
      "metadata": {
        "id": "view-in-github",
        "colab_type": "text"
      },
      "source": [
        "<a href=\"https://colab.research.google.com/github/vtRodrigues92/Analise_de_dados_com_python/blob/master/EXEMPLO_COLETA_DADOS_SPARK.ipynb\" target=\"_parent\"><img src=\"https://colab.research.google.com/assets/colab-badge.svg\" alt=\"Open In Colab\"/></a>"
      ]
    },
    {
      "cell_type": "markdown",
      "source": [
        "##AULA 4 - MANIPULAÇÃO DE DADOS_2"
      ],
      "metadata": {
        "id": "yf2wAQG_Cpzx"
      }
    },
    {
      "cell_type": "markdown",
      "source": [
        "###INSTALANDO BIBLIOTECAS"
      ],
      "metadata": {
        "id": "bec0JX0BCV9U"
      }
    },
    {
      "cell_type": "code",
      "execution_count": null,
      "metadata": {
        "colab": {
          "base_uri": "https://localhost:8080/"
        },
        "id": "00dZtd6tBf5P",
        "outputId": "c4c83b84-c8d2-40cd-f026-8640f748caf7"
      },
      "outputs": [
        {
          "output_type": "stream",
          "name": "stdout",
          "text": [
            "Collecting azure-storage-blob\n",
            "  Downloading azure_storage_blob-12.10.0-py3-none-any.whl (346 kB)\n",
            "\u001b[K     |████████████████████████████████| 346 kB 16.2 MB/s \n",
            "\u001b[?25hCollecting azure-core<2.0.0,>=1.15.0\n",
            "  Downloading azure_core-1.23.0-py3-none-any.whl (179 kB)\n",
            "\u001b[K     |████████████████████████████████| 179 kB 60.1 MB/s \n",
            "\u001b[?25hCollecting cryptography>=2.1.4\n",
            "  Downloading cryptography-36.0.1-cp36-abi3-manylinux_2_24_x86_64.whl (3.6 MB)\n",
            "\u001b[K     |████████████████████████████████| 3.6 MB 45.8 MB/s \n",
            "\u001b[?25hCollecting msrest>=0.6.21\n",
            "  Downloading msrest-0.6.21-py2.py3-none-any.whl (85 kB)\n",
            "\u001b[K     |████████████████████████████████| 85 kB 4.0 MB/s \n",
            "\u001b[?25hCollecting typing-extensions>=4.0.1\n",
            "  Downloading typing_extensions-4.1.1-py3-none-any.whl (26 kB)\n",
            "Requirement already satisfied: six>=1.11.0 in /usr/local/lib/python3.7/dist-packages (from azure-core<2.0.0,>=1.15.0->azure-storage-blob) (1.15.0)\n",
            "Requirement already satisfied: requests>=2.18.4 in /usr/local/lib/python3.7/dist-packages (from azure-core<2.0.0,>=1.15.0->azure-storage-blob) (2.23.0)\n",
            "Requirement already satisfied: cffi>=1.12 in /usr/local/lib/python3.7/dist-packages (from cryptography>=2.1.4->azure-storage-blob) (1.15.0)\n",
            "Requirement already satisfied: pycparser in /usr/local/lib/python3.7/dist-packages (from cffi>=1.12->cryptography>=2.1.4->azure-storage-blob) (2.21)\n",
            "Requirement already satisfied: requests-oauthlib>=0.5.0 in /usr/local/lib/python3.7/dist-packages (from msrest>=0.6.21->azure-storage-blob) (1.3.1)\n",
            "Requirement already satisfied: certifi>=2017.4.17 in /usr/local/lib/python3.7/dist-packages (from msrest>=0.6.21->azure-storage-blob) (2021.10.8)\n",
            "Collecting isodate>=0.6.0\n",
            "  Downloading isodate-0.6.1-py2.py3-none-any.whl (41 kB)\n",
            "\u001b[K     |████████████████████████████████| 41 kB 615 kB/s \n",
            "\u001b[?25hRequirement already satisfied: idna<3,>=2.5 in /usr/local/lib/python3.7/dist-packages (from requests>=2.18.4->azure-core<2.0.0,>=1.15.0->azure-storage-blob) (2.10)\n",
            "Requirement already satisfied: urllib3!=1.25.0,!=1.25.1,<1.26,>=1.21.1 in /usr/local/lib/python3.7/dist-packages (from requests>=2.18.4->azure-core<2.0.0,>=1.15.0->azure-storage-blob) (1.24.3)\n",
            "Requirement already satisfied: chardet<4,>=3.0.2 in /usr/local/lib/python3.7/dist-packages (from requests>=2.18.4->azure-core<2.0.0,>=1.15.0->azure-storage-blob) (3.0.4)\n",
            "Requirement already satisfied: oauthlib>=3.0.0 in /usr/local/lib/python3.7/dist-packages (from requests-oauthlib>=0.5.0->msrest>=0.6.21->azure-storage-blob) (3.2.0)\n",
            "Installing collected packages: typing-extensions, isodate, msrest, cryptography, azure-core, azure-storage-blob\n",
            "  Attempting uninstall: typing-extensions\n",
            "    Found existing installation: typing-extensions 3.10.0.2\n",
            "    Uninstalling typing-extensions-3.10.0.2:\n",
            "      Successfully uninstalled typing-extensions-3.10.0.2\n",
            "\u001b[31mERROR: pip's dependency resolver does not currently take into account all the packages that are installed. This behaviour is the source of the following dependency conflicts.\n",
            "tensorflow 2.8.0 requires tf-estimator-nightly==2.8.0.dev2021122109, which is not installed.\n",
            "arviz 0.11.4 requires typing-extensions<4,>=3.7.4.3, but you have typing-extensions 4.1.1 which is incompatible.\u001b[0m\n",
            "Successfully installed azure-core-1.23.0 azure-storage-blob-12.10.0 cryptography-36.0.1 isodate-0.6.1 msrest-0.6.21 typing-extensions-4.1.1\n"
          ]
        }
      ],
      "source": [
        "pip install azure-storage-blob"
      ]
    },
    {
      "cell_type": "code",
      "source": [
        "pip install pyspark"
      ],
      "metadata": {
        "colab": {
          "base_uri": "https://localhost:8080/"
        },
        "id": "uMBHsrFRCcSA",
        "outputId": "dfa3fa2f-c9ea-4cb1-f4fd-6678779602ad"
      },
      "execution_count": null,
      "outputs": [
        {
          "output_type": "stream",
          "name": "stdout",
          "text": [
            "Collecting pyspark\n",
            "  Downloading pyspark-3.2.1.tar.gz (281.4 MB)\n",
            "\u001b[K     |████████████████████████████████| 281.4 MB 33 kB/s \n",
            "\u001b[?25hCollecting py4j==0.10.9.3\n",
            "  Downloading py4j-0.10.9.3-py2.py3-none-any.whl (198 kB)\n",
            "\u001b[K     |████████████████████████████████| 198 kB 32.1 MB/s \n",
            "\u001b[?25hBuilding wheels for collected packages: pyspark\n",
            "  Building wheel for pyspark (setup.py) ... \u001b[?25l\u001b[?25hdone\n",
            "  Created wheel for pyspark: filename=pyspark-3.2.1-py2.py3-none-any.whl size=281853642 sha256=ba3d2a577bbd6f9590e248ec825b408061cadde4c6849c79d47e3aa60f6447a2\n",
            "  Stored in directory: /root/.cache/pip/wheels/9f/f5/07/7cd8017084dce4e93e84e92efd1e1d5334db05f2e83bcef74f\n",
            "Successfully built pyspark\n",
            "Installing collected packages: py4j, pyspark\n",
            "Successfully installed py4j-0.10.9.3 pyspark-3.2.1\n"
          ]
        }
      ]
    },
    {
      "cell_type": "markdown",
      "source": [
        "###IMPORTANDO AS LIBS PARA USO"
      ],
      "metadata": {
        "id": "2u7-GofPDRw2"
      }
    },
    {
      "cell_type": "code",
      "source": [
        "import requests\n",
        "from pyspark.sql import SparkSession\n",
        "from pyspark.sql.types import *"
      ],
      "metadata": {
        "id": "G5z-e9zCDXTz"
      },
      "execution_count": null,
      "outputs": []
    },
    {
      "cell_type": "markdown",
      "source": [
        "###CRIANDO UMA APLICAÇÃO SPARK"
      ],
      "metadata": {
        "id": "AhJRv2c6EItz"
      }
    },
    {
      "cell_type": "code",
      "source": [
        "spark = SparkSession.builder.getOrCreate()"
      ],
      "metadata": {
        "id": "1G4_TwcvEMFn"
      },
      "execution_count": null,
      "outputs": []
    },
    {
      "cell_type": "markdown",
      "source": [
        "###FUNÇÃO DOWNLOAD DE DADOS"
      ],
      "metadata": {
        "id": "HGmzmsP2FH1E"
      }
    },
    {
      "cell_type": "code",
      "source": [
        "def download(url_arquivo, nome_arquivo):\n",
        "  requisicao = requests.get(url_arquivo)\n",
        "  conteudo = requisicao.content\n",
        "  arquivo = open(nome_arquivo,'wb')\n",
        "  arquivo.write(conteudo)\n",
        "  arquivo.close()"
      ],
      "metadata": {
        "id": "WpFhQCqWFLWC"
      },
      "execution_count": null,
      "outputs": []
    },
    {
      "cell_type": "markdown",
      "source": [
        "###FAZENDO DOWNLOADS DOS ARQUIVOS DE ORDENS DE COMPRA E CLIENTES"
      ],
      "metadata": {
        "id": "DpByL6KWFSNy"
      }
    },
    {
      "cell_type": "code",
      "source": [
        "url_clientes = \"https://datalakeaula141600.blob.core.windows.net/datalake/raw-zone/olist/olist_customers_dataset/olist_customers_dataset.csv\"\n",
        "url_ordem_compra = \"https://datalakeaula141600.blob.core.windows.net/datalake/raw-zone/olist/olist_orders_dataset/olist_orders_dataset.csv\"\n",
        "nome_arquivo_clientes = \"olist_customers_dataset.csv\"\n",
        "nome_arquivo_ordem_compra = \"olist_orders_dataset.csv\"\n",
        "download(url_clientes, nome_arquivo_clientes)\n",
        "download(url_ordem_compra, nome_arquivo_ordem_compra)"
      ],
      "metadata": {
        "id": "hfD9-TWpFWdT"
      },
      "execution_count": null,
      "outputs": []
    },
    {
      "cell_type": "markdown",
      "source": [
        "##LENDO A TABELA ORDERS"
      ],
      "metadata": {
        "id": "mKeXZlqwG8tn"
      }
    },
    {
      "cell_type": "markdown",
      "source": [
        "###ALTERANDO O TIPO DE DADOS DAS COLUNAS"
      ],
      "metadata": {
        "id": "09Apl5jq6kwL"
      }
    },
    {
      "cell_type": "code",
      "source": [
        "schema_orders = StructType([\n",
        "  \n",
        "  StructField(\"order_id\", StringType(), True),\n",
        "  StructField(\"customer_id\", StringType(), True),\n",
        "  StructField(\"order_status\", StringType(), True),\n",
        "  StructField(\"order_purchase_timestamp\", TimestampType(), True),\n",
        "  StructField(\"order_approved_at\", TimestampType(), True),\n",
        "  StructField(\"order_delivered_carrier_date\", TimestampType(), True),\n",
        "  StructField(\"order_delivered_customer_date\", TimestampType(), True),\n",
        "  StructField(\"order_estimated_delivery_date\", TimestampType(), True),                      \n",
        "\n",
        "])"
      ],
      "metadata": {
        "id": "Cgz5nfOjMzxk"
      },
      "execution_count": null,
      "outputs": []
    },
    {
      "cell_type": "markdown",
      "source": [
        "###DEFININDO A VARIAVEL COM O NOVO TIPO DE DADOS "
      ],
      "metadata": {
        "id": "gtfy16B66wsH"
      }
    },
    {
      "cell_type": "code",
      "source": [
        "df_orders = spark.read.csv(nome_arquivo_ordem_compra, header=True, schema=schema_orders)"
      ],
      "metadata": {
        "id": "HCJi4EoIHFB6"
      },
      "execution_count": null,
      "outputs": []
    },
    {
      "cell_type": "markdown",
      "source": [
        "###MOSTRANDO AS 5 PRIMEIRAS LINHAS DO DATA_FRAME"
      ],
      "metadata": {
        "id": "4hZ2RQ-i64TF"
      }
    },
    {
      "cell_type": "code",
      "source": [
        "df_orders.show(truncate=False, n=5)"
      ],
      "metadata": {
        "colab": {
          "base_uri": "https://localhost:8080/"
        },
        "id": "inuhEb3fH2W-",
        "outputId": "fea26c4a-d5e1-454d-ced2-3fecd9052576"
      },
      "execution_count": null,
      "outputs": [
        {
          "output_type": "stream",
          "name": "stdout",
          "text": [
            "+--------------------------------+--------------------------------+------------+------------------------+-------------------+----------------------------+-----------------------------+-----------------------------+\n",
            "|order_id                        |customer_id                     |order_status|order_purchase_timestamp|order_approved_at  |order_delivered_carrier_date|order_delivered_customer_date|order_estimated_delivery_date|\n",
            "+--------------------------------+--------------------------------+------------+------------------------+-------------------+----------------------------+-----------------------------+-----------------------------+\n",
            "|e481f51cbdc54678b7cc49136f2d6af7|9ef432eb6251297304e76186b10a928d|delivered   |2017-10-02 10:56:33     |2017-10-02 11:07:15|2017-10-04 19:55:00         |2017-10-10 21:25:13          |2017-10-18 00:00:00          |\n",
            "|53cdb2fc8bc7dce0b6741e2150273451|b0830fb4747a6c6d20dea0b8c802d7ef|delivered   |2018-07-24 20:41:37     |2018-07-26 03:24:27|2018-07-26 14:31:00         |2018-08-07 15:27:45          |2018-08-13 00:00:00          |\n",
            "|47770eb9100c2d0c44946d9cf07ec65d|41ce2a54c0b03bf3443c3d931a367089|delivered   |2018-08-08 08:38:49     |2018-08-08 08:55:23|2018-08-08 13:50:00         |2018-08-17 18:06:29          |2018-09-04 00:00:00          |\n",
            "|949d5b44dbf5de918fe9c16f97b45f8a|f88197465ea7920adcdbec7375364d82|delivered   |2017-11-18 19:28:06     |2017-11-18 19:45:59|2017-11-22 13:39:59         |2017-12-02 00:28:42          |2017-12-15 00:00:00          |\n",
            "|ad21c59c0840e6cb83a9ceb5573f8159|8ab97904e6daea8866dbdbc4fb7aad2c|delivered   |2018-02-13 21:18:39     |2018-02-13 22:20:29|2018-02-14 19:46:34         |2018-02-16 18:17:02          |2018-02-26 00:00:00          |\n",
            "+--------------------------------+--------------------------------+------------+------------------------+-------------------+----------------------------+-----------------------------+-----------------------------+\n",
            "only showing top 5 rows\n",
            "\n"
          ]
        }
      ]
    },
    {
      "cell_type": "markdown",
      "source": [
        "###MOSTRANDO O DATA_FRAME NO MODO VERTICAL"
      ],
      "metadata": {
        "id": "gbsxAoL97TAV"
      }
    },
    {
      "cell_type": "code",
      "source": [
        "df_orders.show(truncate=False, vertical=True, n=2)"
      ],
      "metadata": {
        "colab": {
          "base_uri": "https://localhost:8080/"
        },
        "id": "ffS_jH9gK3LH",
        "outputId": "dd00e264-51ff-4735-fdd8-c917cdc48416"
      },
      "execution_count": null,
      "outputs": [
        {
          "output_type": "stream",
          "name": "stdout",
          "text": [
            "-RECORD 0---------------------------------------------------------\n",
            " order_id                      | e481f51cbdc54678b7cc49136f2d6af7 \n",
            " customer_id                   | 9ef432eb6251297304e76186b10a928d \n",
            " order_status                  | delivered                        \n",
            " order_purchase_timestamp      | 2017-10-02 10:56:33              \n",
            " order_approved_at             | 2017-10-02 11:07:15              \n",
            " order_delivered_carrier_date  | 2017-10-04 19:55:00              \n",
            " order_delivered_customer_date | 2017-10-10 21:25:13              \n",
            " order_estimated_delivery_date | 2017-10-18 00:00:00              \n",
            "-RECORD 1---------------------------------------------------------\n",
            " order_id                      | 53cdb2fc8bc7dce0b6741e2150273451 \n",
            " customer_id                   | b0830fb4747a6c6d20dea0b8c802d7ef \n",
            " order_status                  | delivered                        \n",
            " order_purchase_timestamp      | 2018-07-24 20:41:37              \n",
            " order_approved_at             | 2018-07-26 03:24:27              \n",
            " order_delivered_carrier_date  | 2018-07-26 14:31:00              \n",
            " order_delivered_customer_date | 2018-08-07 15:27:45              \n",
            " order_estimated_delivery_date | 2018-08-13 00:00:00              \n",
            "only showing top 2 rows\n",
            "\n"
          ]
        }
      ]
    },
    {
      "cell_type": "markdown",
      "source": [
        "###EXIBINDO OS TIPOS DE DADOS EM FORMATO DE ARVORE"
      ],
      "metadata": {
        "id": "JVxG2swG7evz"
      }
    },
    {
      "cell_type": "code",
      "source": [
        "df_orders.printSchema()"
      ],
      "metadata": {
        "colab": {
          "base_uri": "https://localhost:8080/"
        },
        "id": "DnA1NaWQLPkx",
        "outputId": "d6cb6bde-b440-44cd-ecc6-6e2334edadba"
      },
      "execution_count": null,
      "outputs": [
        {
          "output_type": "stream",
          "name": "stdout",
          "text": [
            "root\n",
            " |-- order_id: string (nullable = true)\n",
            " |-- customer_id: string (nullable = true)\n",
            " |-- order_status: string (nullable = true)\n",
            " |-- order_purchase_timestamp: timestamp (nullable = true)\n",
            " |-- order_approved_at: timestamp (nullable = true)\n",
            " |-- order_delivered_carrier_date: timestamp (nullable = true)\n",
            " |-- order_delivered_customer_date: timestamp (nullable = true)\n",
            " |-- order_estimated_delivery_date: timestamp (nullable = true)\n",
            "\n"
          ]
        }
      ]
    },
    {
      "cell_type": "markdown",
      "source": [
        "###EXIBINDO A MAIOR DATA DE UMA COLUNA DO DATA_FRAME"
      ],
      "metadata": {
        "id": "elsX7Tse7k3p"
      }
    },
    {
      "cell_type": "code",
      "source": [
        "df_orders.agg({\"order_purchase_timestamp\" : \"max\"}).collect()"
      ],
      "metadata": {
        "colab": {
          "base_uri": "https://localhost:8080/"
        },
        "id": "PDQ2fk3sL9-v",
        "outputId": "322be978-01cb-4fff-de38-899d5ca9eefc"
      },
      "execution_count": null,
      "outputs": [
        {
          "output_type": "execute_result",
          "data": {
            "text/plain": [
              "[Row(max(order_purchase_timestamp)=datetime.datetime(2018, 10, 17, 17, 30, 18))]"
            ]
          },
          "metadata": {},
          "execution_count": 37
        }
      ]
    },
    {
      "cell_type": "markdown",
      "source": [
        "###CRIANDO UMA TEMPVIEW DO DATA_FRAME"
      ],
      "metadata": {
        "id": "ER4ZYm9U7xTo"
      }
    },
    {
      "cell_type": "code",
      "source": [
        "df_orders.createOrReplaceTempView(\"orders\")"
      ],
      "metadata": {
        "id": "qv2MZV79UHgt"
      },
      "execution_count": null,
      "outputs": []
    },
    {
      "cell_type": "markdown",
      "source": [
        "###MOSTRANDO A VIEW CRIADA COM COMANDO SQL (SPARK)"
      ],
      "metadata": {
        "id": "9D5LRl3c73Mw"
      }
    },
    {
      "cell_type": "code",
      "source": [
        "spark.sql(\"\"\"\n",
        "SELECT *\n",
        "FROM   orders\"\"\").show()"
      ],
      "metadata": {
        "colab": {
          "base_uri": "https://localhost:8080/"
        },
        "id": "AKabgl69VhlR",
        "outputId": "5b2cd983-cdbc-4dc8-ba18-585a6d9f1039"
      },
      "execution_count": null,
      "outputs": [
        {
          "output_type": "stream",
          "name": "stdout",
          "text": [
            "+--------------------+--------------------+------------+------------------------+-------------------+----------------------------+-----------------------------+-----------------------------+\n",
            "|            order_id|         customer_id|order_status|order_purchase_timestamp|  order_approved_at|order_delivered_carrier_date|order_delivered_customer_date|order_estimated_delivery_date|\n",
            "+--------------------+--------------------+------------+------------------------+-------------------+----------------------------+-----------------------------+-----------------------------+\n",
            "|e481f51cbdc54678b...|9ef432eb625129730...|   delivered|     2017-10-02 10:56:33|2017-10-02 11:07:15|         2017-10-04 19:55:00|          2017-10-10 21:25:13|          2017-10-18 00:00:00|\n",
            "|53cdb2fc8bc7dce0b...|b0830fb4747a6c6d2...|   delivered|     2018-07-24 20:41:37|2018-07-26 03:24:27|         2018-07-26 14:31:00|          2018-08-07 15:27:45|          2018-08-13 00:00:00|\n",
            "|47770eb9100c2d0c4...|41ce2a54c0b03bf34...|   delivered|     2018-08-08 08:38:49|2018-08-08 08:55:23|         2018-08-08 13:50:00|          2018-08-17 18:06:29|          2018-09-04 00:00:00|\n",
            "|949d5b44dbf5de918...|f88197465ea7920ad...|   delivered|     2017-11-18 19:28:06|2017-11-18 19:45:59|         2017-11-22 13:39:59|          2017-12-02 00:28:42|          2017-12-15 00:00:00|\n",
            "|ad21c59c0840e6cb8...|8ab97904e6daea886...|   delivered|     2018-02-13 21:18:39|2018-02-13 22:20:29|         2018-02-14 19:46:34|          2018-02-16 18:17:02|          2018-02-26 00:00:00|\n",
            "|a4591c265e18cb1dc...|503740e9ca751ccdd...|   delivered|     2017-07-09 21:57:05|2017-07-09 22:10:13|         2017-07-11 14:58:04|          2017-07-26 10:57:55|          2017-08-01 00:00:00|\n",
            "|136cce7faa42fdb2c...|ed0271e0b7da060a3...|    invoiced|     2017-04-11 12:22:08|2017-04-13 13:25:17|                        null|                         null|          2017-05-09 00:00:00|\n",
            "|6514b8ad8028c9f2c...|9bdf08b4b3b52b552...|   delivered|     2017-05-16 13:10:30|2017-05-16 13:22:11|         2017-05-22 10:07:46|          2017-05-26 12:55:51|          2017-06-07 00:00:00|\n",
            "|76c6e866289321a7c...|f54a9f0e6b351c431...|   delivered|     2017-01-23 18:29:09|2017-01-25 02:50:47|         2017-01-26 14:16:31|          2017-02-02 14:08:10|          2017-03-06 00:00:00|\n",
            "|e69bfb5eb88e0ed6a...|31ad1d1b63eb99624...|   delivered|     2017-07-29 11:55:02|2017-07-29 12:05:32|         2017-08-10 19:45:24|          2017-08-16 17:14:30|          2017-08-23 00:00:00|\n",
            "|e6ce16cb79ec1d90b...|494dded5b201313c6...|   delivered|     2017-05-16 19:41:10|2017-05-16 19:50:18|         2017-05-18 11:40:40|          2017-05-29 11:18:31|          2017-06-07 00:00:00|\n",
            "|34513ce0c4fab462a...|7711cf624183d843a...|   delivered|     2017-07-13 19:58:11|2017-07-13 20:10:08|         2017-07-14 18:43:29|          2017-07-19 14:04:48|          2017-08-08 00:00:00|\n",
            "|82566a660a982b15f...|d3e3b74c766bc6214...|   delivered|     2018-06-07 10:06:19|2018-06-09 03:13:12|         2018-06-11 13:29:00|          2018-06-19 12:05:52|          2018-07-18 00:00:00|\n",
            "|5ff96c15d0b717ac6...|19402a48fe860416a...|   delivered|     2018-07-25 17:44:10|2018-07-25 17:55:14|         2018-07-26 13:16:00|          2018-07-30 15:52:25|          2018-08-08 00:00:00|\n",
            "|432aaf21d85167c2c...|3df704f53d3f1d481...|   delivered|     2018-03-01 14:14:28|2018-03-01 15:10:47|         2018-03-02 21:09:20|          2018-03-12 23:36:26|          2018-03-21 00:00:00|\n",
            "|dcb36b511fcac050b...|3b6828a50ffe54694...|   delivered|     2018-06-07 19:03:12|2018-06-12 23:31:02|         2018-06-11 14:54:00|          2018-06-21 15:34:32|          2018-07-04 00:00:00|\n",
            "|403b97836b0c04a62...|738b086814c6fcc74...|   delivered|     2018-01-02 19:00:43|2018-01-02 19:09:04|         2018-01-03 18:19:09|          2018-01-20 01:38:59|          2018-02-06 00:00:00|\n",
            "|116f0b09343b49556...|3187789bec9909876...|   delivered|     2017-12-26 23:41:31|2017-12-26 23:50:22|         2017-12-28 18:33:05|          2018-01-08 22:36:36|          2018-01-29 00:00:00|\n",
            "|85ce859fd6dc634de...|059f7fc5719c7da6c...|   delivered|     2017-11-21 00:03:41|2017-11-21 00:14:22|         2017-11-23 21:32:26|          2017-11-27 18:28:00|          2017-12-11 00:00:00|\n",
            "|83018ec114eee8641...|7f8c8b9c2ae27bf33...|   delivered|     2017-10-26 15:54:26|2017-10-26 16:08:14|         2017-10-26 21:46:53|          2017-11-08 22:22:00|          2017-11-23 00:00:00|\n",
            "+--------------------+--------------------+------------+------------------------+-------------------+----------------------------+-----------------------------+-----------------------------+\n",
            "only showing top 20 rows\n",
            "\n"
          ]
        }
      ]
    },
    {
      "cell_type": "markdown",
      "source": [
        "###EXIBINDO A MAIOR DATA DE UMA COLUNA USANDO SQL (SPARK)"
      ],
      "metadata": {
        "id": "21moU8D48DWQ"
      }
    },
    {
      "cell_type": "code",
      "source": [
        "spark.sql(\"\"\"\n",
        "SELECT MAX(order_purchase_timestamp)\n",
        "FROM   orders\"\"\").show()"
      ],
      "metadata": {
        "colab": {
          "base_uri": "https://localhost:8080/"
        },
        "id": "eHNlP805W5p-",
        "outputId": "12e56858-a61b-4756-fa07-faabded2800d"
      },
      "execution_count": null,
      "outputs": [
        {
          "output_type": "stream",
          "name": "stdout",
          "text": [
            "+-----------------------------+\n",
            "|max(order_purchase_timestamp)|\n",
            "+-----------------------------+\n",
            "|          2018-10-17 17:30:18|\n",
            "+-----------------------------+\n",
            "\n"
          ]
        }
      ]
    },
    {
      "cell_type": "markdown",
      "source": [
        "##LENDO A TABELA CLIENTES"
      ],
      "metadata": {
        "id": "2Z16ybi7Xw2K"
      }
    },
    {
      "cell_type": "code",
      "source": [
        "df_clientes = spark.read.csv(nome_arquivo_clientes, header = True, inferSchema = True)"
      ],
      "metadata": {
        "id": "euzKRSI3Xzw2"
      },
      "execution_count": null,
      "outputs": []
    },
    {
      "cell_type": "markdown",
      "source": [
        "###MOSTRANDO O TIPO DE DADOS DAS COLUNAS NO EFEITO ARVORE"
      ],
      "metadata": {
        "id": "l_13Gsae4iMo"
      }
    },
    {
      "cell_type": "code",
      "source": [
        "df_clientes.printSchema()"
      ],
      "metadata": {
        "colab": {
          "base_uri": "https://localhost:8080/"
        },
        "id": "BKAzH4R7jx3B",
        "outputId": "75705b5f-6b0a-4a7c-dd08-2e23b41adcc1"
      },
      "execution_count": null,
      "outputs": [
        {
          "output_type": "stream",
          "name": "stdout",
          "text": [
            "root\n",
            " |-- customer_id: string (nullable = true)\n",
            " |-- customer_unique_id: string (nullable = true)\n",
            " |-- customer_zip_code_prefix: integer (nullable = true)\n",
            " |-- customer_city: string (nullable = true)\n",
            " |-- customer_state: string (nullable = true)\n",
            "\n"
          ]
        }
      ]
    },
    {
      "cell_type": "markdown",
      "source": [
        "###EXIBINDO A TABELA CLIENTES COM CABEÇALHO"
      ],
      "metadata": {
        "id": "0KgwgSO-4l93"
      }
    },
    {
      "cell_type": "code",
      "source": [
        "df_clientes.show(truncate=False)"
      ],
      "metadata": {
        "colab": {
          "base_uri": "https://localhost:8080/"
        },
        "id": "1WZgOOj3cAns",
        "outputId": "09edc964-b339-4455-ccee-92a34a4b8530"
      },
      "execution_count": null,
      "outputs": [
        {
          "output_type": "stream",
          "name": "stdout",
          "text": [
            "+--------------------------------+--------------------------------+------------------------+---------------------+--------------+\n",
            "|customer_id                     |customer_unique_id              |customer_zip_code_prefix|customer_city        |customer_state|\n",
            "+--------------------------------+--------------------------------+------------------------+---------------------+--------------+\n",
            "|06b8999e2fba1a1fbc88172c00ba8bc7|861eff4711a542e4b93843c6dd7febb0|14409                   |franca               |SP            |\n",
            "|18955e83d337fd6b2def6b18a428ac77|290c77bc529b7ac935b93aa66c333dc3|9790                    |sao bernardo do campo|SP            |\n",
            "|4e7b3e00288586ebd08712fdd0374a03|060e732b5b29e8181a18229c7b0b2b5e|1151                    |sao paulo            |SP            |\n",
            "|b2b6027bc5c5109e529d4dc6358b12c3|259dac757896d24d7702b9acbbff3f3c|8775                    |mogi das cruzes      |SP            |\n",
            "|4f2d8ab171c80ec8364f7c12e35b23ad|345ecd01c38d18a9036ed96c73b8d066|13056                   |campinas             |SP            |\n",
            "|879864dab9bc3047522c92c82e1212b8|4c93744516667ad3b8f1fb645a3116a4|89254                   |jaragua do sul       |SC            |\n",
            "|fd826e7cf63160e536e0908c76c3f441|addec96d2e059c80c30fe6871d30d177|4534                    |sao paulo            |SP            |\n",
            "|5e274e7a0c3809e14aba7ad5aae0d407|57b2a98a409812fe9618067b6b8ebe4f|35182                   |timoteo              |MG            |\n",
            "|5adf08e34b2e993982a47070956c5c65|1175e95fb47ddff9de6b2b06188f7e0d|81560                   |curitiba             |PR            |\n",
            "|4b7139f34592b3a31687243a302fa75b|9afe194fb833f79e300e37e580171f22|30575                   |belo horizonte       |MG            |\n",
            "|9fb35e4ed6f0a14a4977cd9aea4042bb|2a7745e1ed516b289ed9b29c7d0539a5|39400                   |montes claros        |MG            |\n",
            "|5aa9e4fdd4dfd20959cad2d772509598|2a46fb94aef5cbeeb850418118cee090|20231                   |rio de janeiro       |RJ            |\n",
            "|b2d1536598b73a9abd18e0d75d92f0a3|918dc87cd72cd9f6ed4bd442ed785235|18682                   |lencois paulista     |SP            |\n",
            "|eabebad39a88bb6f5b52376faec28612|295c05e81917928d76245e842748184d|5704                    |sao paulo            |SP            |\n",
            "|1f1c7bf1c9b041b292af6c1c4470b753|3151a81801c8386361b62277d7fa5ecf|95110                   |caxias do sul        |RS            |\n",
            "|206f3129c0e4d7d0b9550426023f0a08|21f748a16f4e1688a9014eb3ee6fa325|13412                   |piracicaba           |SP            |\n",
            "|a7c125a0a07b75146167b7f04a7f8e98|5c2991dbd08bbf3cf410713c4de5a0b5|22750                   |rio de janeiro       |RJ            |\n",
            "|c5c61596a3b6bd0cee5766992c48a9a1|b6e99561fe6f34a55b0b7da92f8ed775|7124                    |guarulhos            |SP            |\n",
            "|9b8ce803689b3562defaad4613ef426f|7f3a72e8f988c6e735ba118d54f47458|5416                    |sao paulo            |SP            |\n",
            "|49d0ea0986edde72da777f15456a0ee0|3e6fd6b2f0d499456a6a6820a40f2d79|68485                   |pacaja               |PA            |\n",
            "+--------------------------------+--------------------------------+------------------------+---------------------+--------------+\n",
            "only showing top 20 rows\n",
            "\n"
          ]
        }
      ]
    },
    {
      "cell_type": "markdown",
      "source": [
        "###CRIANDO UMA VIEW TEMPORÁRIA DA TABELA CLIENTES"
      ],
      "metadata": {
        "id": "J-zHwoqN4vjU"
      }
    },
    {
      "cell_type": "code",
      "source": [
        "df_clientes.createOrReplaceTempView(\"clientes\")"
      ],
      "metadata": {
        "id": "NJzf7G6QcK3b"
      },
      "execution_count": null,
      "outputs": []
    },
    {
      "cell_type": "markdown",
      "source": [
        "###CRIANDO UMA COLUNA REGIÇÃO, DEFININDO A REGIÃO GEOGRÁFICA A PARTIR DOS ESTADOS"
      ],
      "metadata": {
        "id": "TF_ydJz842hE"
      }
    },
    {
      "cell_type": "code",
      "source": [
        "spark.sql(\"\"\"\n",
        "SELECT  *,\n",
        "        CASE\n",
        "          WHEN customer_state IN ('MG', 'SP', 'RJ', 'ES') THEN 'Sudeste' \n",
        "          WHEN customer_state IN ('SC', 'RS', 'PR') THEN 'Sul' \n",
        "          WHEN customer_state IN ('DF', 'GO', 'MT', 'MS') THEN 'Centro-Oeste'\n",
        "          WHEN customer_state IN ('AC', 'AM', 'AP', 'RO', 'RR', 'PA', 'TO') THEN 'Norte'\n",
        "          ELSE 'Nordeste'\n",
        "        END AS customer_region\n",
        "FROM    clientes\n",
        "\"\"\"\n",
        "\n",
        ").show()"
      ],
      "metadata": {
        "colab": {
          "base_uri": "https://localhost:8080/"
        },
        "id": "xBBtRwmycUlQ",
        "outputId": "9d60cbf5-38ee-47a7-f448-9107b472df0f"
      },
      "execution_count": null,
      "outputs": [
        {
          "output_type": "stream",
          "name": "stdout",
          "text": [
            "+--------------------+--------------------+------------------------+--------------------+--------------+---------------+---------------+\n",
            "|         customer_id|  customer_unique_id|customer_zip_code_prefix|       customer_city|customer_state|customer_region|customer_region|\n",
            "+--------------------+--------------------+------------------------+--------------------+--------------+---------------+---------------+\n",
            "|06b8999e2fba1a1fb...|861eff4711a542e4b...|                   14409|              franca|            SP|        Sudeste|        Sudeste|\n",
            "|18955e83d337fd6b2...|290c77bc529b7ac93...|                    9790|sao bernardo do c...|            SP|        Sudeste|        Sudeste|\n",
            "|4e7b3e00288586ebd...|060e732b5b29e8181...|                    1151|           sao paulo|            SP|        Sudeste|        Sudeste|\n",
            "|b2b6027bc5c5109e5...|259dac757896d24d7...|                    8775|     mogi das cruzes|            SP|        Sudeste|        Sudeste|\n",
            "|4f2d8ab171c80ec83...|345ecd01c38d18a90...|                   13056|            campinas|            SP|        Sudeste|        Sudeste|\n",
            "|879864dab9bc30475...|4c93744516667ad3b...|                   89254|      jaragua do sul|            SC|            Sul|            Sul|\n",
            "|fd826e7cf63160e53...|addec96d2e059c80c...|                    4534|           sao paulo|            SP|        Sudeste|        Sudeste|\n",
            "|5e274e7a0c3809e14...|57b2a98a409812fe9...|                   35182|             timoteo|            MG|        Sudeste|        Sudeste|\n",
            "|5adf08e34b2e99398...|1175e95fb47ddff9d...|                   81560|            curitiba|            PR|            Sul|            Sul|\n",
            "|4b7139f34592b3a31...|9afe194fb833f79e3...|                   30575|      belo horizonte|            MG|        Sudeste|        Sudeste|\n",
            "|9fb35e4ed6f0a14a4...|2a7745e1ed516b289...|                   39400|       montes claros|            MG|        Sudeste|        Sudeste|\n",
            "|5aa9e4fdd4dfd2095...|2a46fb94aef5cbeeb...|                   20231|      rio de janeiro|            RJ|        Sudeste|        Sudeste|\n",
            "|b2d1536598b73a9ab...|918dc87cd72cd9f6e...|                   18682|    lencois paulista|            SP|        Sudeste|        Sudeste|\n",
            "|eabebad39a88bb6f5...|295c05e81917928d7...|                    5704|           sao paulo|            SP|        Sudeste|        Sudeste|\n",
            "|1f1c7bf1c9b041b29...|3151a81801c838636...|                   95110|       caxias do sul|            RS|            Sul|            Sul|\n",
            "|206f3129c0e4d7d0b...|21f748a16f4e1688a...|                   13412|          piracicaba|            SP|        Sudeste|        Sudeste|\n",
            "|a7c125a0a07b75146...|5c2991dbd08bbf3cf...|                   22750|      rio de janeiro|            RJ|        Sudeste|        Sudeste|\n",
            "|c5c61596a3b6bd0ce...|b6e99561fe6f34a55...|                    7124|           guarulhos|            SP|        Sudeste|        Sudeste|\n",
            "|9b8ce803689b3562d...|7f3a72e8f988c6e73...|                    5416|           sao paulo|            SP|        Sudeste|        Sudeste|\n",
            "|49d0ea0986edde72d...|3e6fd6b2f0d499456...|                   68485|              pacaja|            PA|          Norte|          Norte|\n",
            "+--------------------+--------------------+------------------------+--------------------+--------------+---------------+---------------+\n",
            "only showing top 20 rows\n",
            "\n"
          ]
        }
      ]
    },
    {
      "cell_type": "markdown",
      "source": [
        "###DEFININDO A NOVA TABELA CRIADA NA VARIAVEL DF_CLIENTES "
      ],
      "metadata": {
        "id": "qDOFF1m65Ixr"
      }
    },
    {
      "cell_type": "code",
      "source": [
        "df_clientes = spark.sql(\"\"\"\n",
        "SELECT  *,\n",
        "        CASE\n",
        "          WHEN customer_state IN ('MG', 'SP', 'RJ', 'ES') THEN 'Sudeste' \n",
        "          WHEN customer_state IN ('SC', 'RS', 'PR') THEN 'Sul' \n",
        "          WHEN customer_state IN ('DF', 'GO', 'MT', 'MS') THEN 'Centro-Oeste'\n",
        "          WHEN customer_state IN ('AC', 'AM', 'AP', 'RO', 'RR', 'PA', 'TO') THEN 'Norte'\n",
        "          ELSE 'Nordeste'\n",
        "        END AS customer_region\n",
        "FROM    clientes\n",
        "\"\"\"\n",
        "\n",
        ")"
      ],
      "metadata": {
        "id": "T-c7RudguNKB"
      },
      "execution_count": null,
      "outputs": []
    },
    {
      "cell_type": "markdown",
      "source": [
        "###EXCLUINDO A VIEW CLIENTES DEFINIDA ANTERIORMENTE"
      ],
      "metadata": {
        "id": "-5fixyZD5gSw"
      }
    },
    {
      "cell_type": "code",
      "source": [
        "spark.sql(\"DROP TABLE clientes\")"
      ],
      "metadata": {
        "colab": {
          "base_uri": "https://localhost:8080/"
        },
        "id": "xQPQe1nQuTu3",
        "outputId": "d6a40a53-9206-41c2-9db9-5faba39fd2a3"
      },
      "execution_count": null,
      "outputs": [
        {
          "output_type": "execute_result",
          "data": {
            "text/plain": [
              "DataFrame[]"
            ]
          },
          "metadata": {},
          "execution_count": 172
        }
      ]
    },
    {
      "cell_type": "markdown",
      "source": [
        "###DEFININDO A NOVA VIEW CLIENTE"
      ],
      "metadata": {
        "id": "Fzyh_8W45pQQ"
      }
    },
    {
      "cell_type": "code",
      "source": [
        "df_clientes.createOrReplaceTempView(\"clientes\")"
      ],
      "metadata": {
        "id": "0z_3cY8Euapl"
      },
      "execution_count": null,
      "outputs": []
    },
    {
      "cell_type": "markdown",
      "source": [
        "###EXIBINDO A NOVA TABELA DF_CLIENTES"
      ],
      "metadata": {
        "id": "R6M7kKWL57IP"
      }
    },
    {
      "cell_type": "code",
      "source": [
        "df_clientes.show()"
      ],
      "metadata": {
        "colab": {
          "base_uri": "https://localhost:8080/"
        },
        "id": "PP-kG9wSy-2Z",
        "outputId": "48a08300-23eb-462f-a9d2-2dbb1c1c82d4"
      },
      "execution_count": null,
      "outputs": [
        {
          "output_type": "stream",
          "name": "stdout",
          "text": [
            "+--------------------+--------------------+------------------------+--------------------+--------------+---------------+\n",
            "|         customer_id|  customer_unique_id|customer_zip_code_prefix|       customer_city|customer_state|customer_region|\n",
            "+--------------------+--------------------+------------------------+--------------------+--------------+---------------+\n",
            "|06b8999e2fba1a1fb...|861eff4711a542e4b...|                   14409|              franca|            SP|        Sudeste|\n",
            "|18955e83d337fd6b2...|290c77bc529b7ac93...|                    9790|sao bernardo do c...|            SP|        Sudeste|\n",
            "|4e7b3e00288586ebd...|060e732b5b29e8181...|                    1151|           sao paulo|            SP|        Sudeste|\n",
            "|b2b6027bc5c5109e5...|259dac757896d24d7...|                    8775|     mogi das cruzes|            SP|        Sudeste|\n",
            "|4f2d8ab171c80ec83...|345ecd01c38d18a90...|                   13056|            campinas|            SP|        Sudeste|\n",
            "|879864dab9bc30475...|4c93744516667ad3b...|                   89254|      jaragua do sul|            SC|            Sul|\n",
            "|fd826e7cf63160e53...|addec96d2e059c80c...|                    4534|           sao paulo|            SP|        Sudeste|\n",
            "|5e274e7a0c3809e14...|57b2a98a409812fe9...|                   35182|             timoteo|            MG|        Sudeste|\n",
            "|5adf08e34b2e99398...|1175e95fb47ddff9d...|                   81560|            curitiba|            PR|            Sul|\n",
            "|4b7139f34592b3a31...|9afe194fb833f79e3...|                   30575|      belo horizonte|            MG|        Sudeste|\n",
            "|9fb35e4ed6f0a14a4...|2a7745e1ed516b289...|                   39400|       montes claros|            MG|        Sudeste|\n",
            "|5aa9e4fdd4dfd2095...|2a46fb94aef5cbeeb...|                   20231|      rio de janeiro|            RJ|        Sudeste|\n",
            "|b2d1536598b73a9ab...|918dc87cd72cd9f6e...|                   18682|    lencois paulista|            SP|        Sudeste|\n",
            "|eabebad39a88bb6f5...|295c05e81917928d7...|                    5704|           sao paulo|            SP|        Sudeste|\n",
            "|1f1c7bf1c9b041b29...|3151a81801c838636...|                   95110|       caxias do sul|            RS|            Sul|\n",
            "|206f3129c0e4d7d0b...|21f748a16f4e1688a...|                   13412|          piracicaba|            SP|        Sudeste|\n",
            "|a7c125a0a07b75146...|5c2991dbd08bbf3cf...|                   22750|      rio de janeiro|            RJ|        Sudeste|\n",
            "|c5c61596a3b6bd0ce...|b6e99561fe6f34a55...|                    7124|           guarulhos|            SP|        Sudeste|\n",
            "|9b8ce803689b3562d...|7f3a72e8f988c6e73...|                    5416|           sao paulo|            SP|        Sudeste|\n",
            "|49d0ea0986edde72d...|3e6fd6b2f0d499456...|                   68485|              pacaja|            PA|          Norte|\n",
            "+--------------------+--------------------+------------------------+--------------------+--------------+---------------+\n",
            "only showing top 20 rows\n",
            "\n"
          ]
        }
      ]
    },
    {
      "cell_type": "markdown",
      "source": [
        "###JUNTANDO O DATAFRAME DF_CLIENTES E DF_ORDERS PELO ID USANDO O INNER JOIN"
      ],
      "metadata": {
        "id": "bW4NbMm_3SoH"
      }
    },
    {
      "cell_type": "code",
      "source": [
        "df_orders_clientes = spark.sql(\"\"\"\n",
        "SELECT    *\n",
        "FROM      orders\n",
        "  INNER JOIN  clientes\n",
        "    ON orders.customer_id = clientes.customer_id\n",
        "\"\"\").show()"
      ],
      "metadata": {
        "colab": {
          "base_uri": "https://localhost:8080/"
        },
        "id": "GDHcNcgmwH9M",
        "outputId": "c19c5b37-9be8-4774-e22b-5ce65f766c69"
      },
      "execution_count": null,
      "outputs": [
        {
          "output_type": "stream",
          "name": "stdout",
          "text": [
            "+--------------------+--------------------+------------+------------------------+-------------------+----------------------------+-----------------------------+-----------------------------+--------------------+--------------------+------------------------+-------------------+--------------+---------------+\n",
            "|            order_id|         customer_id|order_status|order_purchase_timestamp|  order_approved_at|order_delivered_carrier_date|order_delivered_customer_date|order_estimated_delivery_date|         customer_id|  customer_unique_id|customer_zip_code_prefix|      customer_city|customer_state|customer_region|\n",
            "+--------------------+--------------------+------------+------------------------+-------------------+----------------------------+-----------------------------+-----------------------------+--------------------+--------------------+------------------------+-------------------+--------------+---------------+\n",
            "|a44895d095d7e0702...|000161a058600d590...|   delivered|     2017-07-16 09:40:32|2017-07-16 09:55:12|         2017-07-19 19:09:37|          2017-07-25 18:57:33|          2017-08-04 00:00:00|000161a058600d590...|b0015e09bb4b6e47c...|                   35550|        itapecerica|            MG|        Sudeste|\n",
            "|fa906f338cee30a98...|00050bf6e01e69d5c...|   delivered|     2017-09-17 16:04:44|2017-09-17 16:15:13|         2017-09-18 21:02:46|          2017-10-02 21:14:31|          2017-10-13 00:00:00|00050bf6e01e69d5c...|e3cf594a99e810f58...|                   98700|               ijui|            RS|            Sul|\n",
            "|9b961b894e797f636...|000598caf2ef41174...|   delivered|     2018-08-11 12:14:35|2018-08-11 12:25:08|         2018-08-13 14:41:00|          2018-08-20 18:18:41|          2018-09-06 00:00:00|000598caf2ef41174...|7e0516b486e92ed3f...|                   35540|           oliveira|            MG|        Sudeste|\n",
            "|263ba12390d0fbce3...|0005aefbb696d34b3...|   delivered|     2018-06-20 09:46:53|2018-06-20 10:21:32|         2018-06-21 15:17:00|          2018-06-22 17:58:39|          2018-07-03 00:00:00|0005aefbb696d34b3...|616309b2eeb7bd9c0...|                    3052|          sao paulo|            SP|        Sudeste|\n",
            "|048beca6ccda094fb...|0009a69b72033b2d0...|   delivered|     2017-04-28 13:36:30|2017-04-28 13:45:15|         2017-04-28 15:08:40|          2017-05-08 10:04:13|          2017-05-22 00:00:00|0009a69b72033b2d0...|fa30145b07cad8e97...|                   13106|           campinas|            SP|        Sudeste|\n",
            "|bc3e295306ee4d3eb...|000bf8121c3412d30...|   delivered|     2017-10-11 07:44:31|2017-10-11 07:56:17|         2017-10-13 15:16:26|          2017-10-16 19:35:33|          2017-10-24 00:00:00|000bf8121c3412d30...|1bc9b2dad6aefbfbc...|                   12335|            jacarei|            SP|        Sudeste|\n",
            "|cfde948cbe426f37a...|000e943451fc2788c...|   delivered|     2017-04-20 19:37:14|2017-04-22 10:15:17|         2017-04-25 08:23:14|          2017-05-09 11:50:02|          2017-05-17 00:00:00|000e943451fc2788c...|d73c3cf4a0922ece1...|                   99460|           colorado|            RS|            Sul|\n",
            "|574fb93317faefb9a...|000fd45d6fedae68f...|   delivered|     2018-04-15 15:55:01|2018-04-17 05:55:38|         2018-04-23 23:44:37|          2018-04-30 20:31:39|          2018-05-08 00:00:00|000fd45d6fedae68f...|cee6fa72fb403ef95...|                   12970|           piracaia|            SP|        Sudeste|\n",
            "|17a9050c446ea78f7...|00114026c1b7b52ab...|   delivered|     2017-06-01 19:44:44|2017-06-01 19:55:15|         2017-06-02 13:55:54|          2017-06-12 15:43:57|          2017-06-27 00:00:00|00114026c1b7b52ab...|f4dc0a81a11d3d270...|                   22470|     rio de janeiro|            RJ|        Sudeste|\n",
            "|8f90bd287474f07e9...|001226b2341ef6204...|   delivered|     2017-09-29 01:15:08|2017-09-30 02:28:45|         2017-10-02 14:46:52|          2017-10-09 21:22:38|          2017-10-30 00:00:00|001226b2341ef6204...|e7897290aea0805ab...|                   90470|       porto alegre|            RS|            Sul|\n",
            "|e4606fed871d036cb...|0013280441d86a4f7...|   delivered|     2018-01-08 02:35:36|2018-01-08 02:47:54|         2018-01-09 15:44:22|          2018-01-10 18:20:12|          2018-01-24 00:00:00|0013280441d86a4f7...|06caeba6db23a17bf...|                    5409|          sao paulo|            SP|        Sudeste|\n",
            "|4ed7a5d31f58c9c3b...|0013cd8e350a7cc76...|   delivered|     2018-05-07 23:25:09|2018-05-08 21:11:37|         2018-05-09 15:21:00|          2018-05-12 15:44:57|          2018-05-25 00:00:00|0013cd8e350a7cc76...|334fed5abcee3aa96...|                    3585|          sao paulo|            SP|        Sudeste|\n",
            "|b60b122b336eaee33...|00146ad3045499387...|   delivered|     2018-01-08 20:40:57|2018-01-08 20:48:33|         2018-01-09 23:39:15|          2018-01-16 22:33:07|          2018-02-01 00:00:00|00146ad3045499387...|5616f75d22507069b...|                   31060|     belo horizonte|            MG|        Sudeste|\n",
            "|9bd75a47121bac195...|00155f0530cc7b2bf...|   delivered|     2017-05-14 23:55:13|2017-05-15 00:46:01|         2017-05-19 09:55:44|          2017-05-29 10:48:45|          2017-06-14 00:00:00|00155f0530cc7b2bf...|533b3a42bf5005c30...|                   13042|           campinas|            SP|        Sudeste|\n",
            "|ccac33950ffc27cb9...|001574cd5824c0b1e...| unavailable|     2017-11-26 02:13:57|2017-11-26 02:30:13|                        null|                         null|          2017-12-19 00:00:00|001574cd5824c0b1e...|8141dd1e051afe7d7...|                    8248|          sao paulo|            SP|        Sudeste|\n",
            "|40e61df3e13139ca0...|0015bc9fd2d539544...|   delivered|     2018-06-11 19:48:34|2018-06-11 20:22:45|         2018-06-12 16:36:00|          2018-06-14 10:18:20|          2018-06-26 00:00:00|0015bc9fd2d539544...|490c854539b21598c...|                   12233|sao jose dos campos|            SP|        Sudeste|\n",
            "|cee9b5953fbfa5307...|0015f7887e2fde13d...|   delivered|     2017-07-31 11:05:46|2017-07-31 11:24:56|         2017-08-01 18:56:51|          2017-08-08 20:53:03|          2017-08-24 00:00:00|0015f7887e2fde13d...|866c923cde750dfc8...|                   25903|               mage|            RJ|        Sudeste|\n",
            "|5c11e238c0563cab5...|0017a0b4c1f1bdb9c...|   delivered|     2018-03-03 18:44:01|2018-03-03 18:55:27|         2018-03-05 19:25:05|          2018-03-23 22:18:56|          2018-03-22 00:00:00|0017a0b4c1f1bdb9c...|e36a621e869b643b1...|                   81510|           curitiba|            PR|            Sul|\n",
            "|f22420a030f491fdc...|001a57041f5640091...|   delivered|     2018-01-17 21:22:51|2018-01-18 21:16:24|         2018-01-19 21:58:38|          2018-01-20 12:07:32|          2018-02-01 00:00:00|001a57041f5640091...|163b27a06a32c2fa5...|                    2512|          sao paulo|            SP|        Sudeste|\n",
            "|378d1ac3d8e22dd46...|001df1ee5c36767aa...|   delivered|     2018-08-05 23:14:45|2018-08-05 23:30:13|         2018-08-07 11:21:00|          2018-08-10 18:52:44|          2018-08-10 00:00:00|001df1ee5c36767aa...|46b44ab325f78e5bb...|                    1030|          sao paulo|            SP|        Sudeste|\n",
            "+--------------------+--------------------+------------+------------------------+-------------------+----------------------------+-----------------------------+-----------------------------+--------------------+--------------------+------------------------+-------------------+--------------+---------------+\n",
            "only showing top 20 rows\n",
            "\n"
          ]
        }
      ]
    },
    {
      "cell_type": "markdown",
      "source": [
        "###GRAVANDO ARQUIVO"
      ],
      "metadata": {
        "id": "vbxk8y6xxoF6"
      }
    },
    {
      "cell_type": "code",
      "source": [
        "df_clientes.coalesce(1).write.option('header', True).csv(\"clientes_por_reg\")"
      ],
      "metadata": {
        "id": "rbBX087sxrNA"
      },
      "execution_count": null,
      "outputs": []
    },
    {
      "cell_type": "markdown",
      "source": [
        "##IMPORTANDO O ARQUIVO GRAVADO PARA O DATALAKE"
      ],
      "metadata": {
        "id": "wXyB0PaIztLS"
      }
    },
    {
      "cell_type": "code",
      "source": [
        "from azure.storage.blob import BlobClient\n",
        "\n",
        "connection_string = \"DefaultEndpointsProtocol=https;AccountName=datalakeaula141600;AccountKey=YjT3wcnrtaF99X2Bzo1nMnBbJGGeNiK5ybrGYjZ/kKs+w9D+px/WO6a35FrLR5FyCLIwCL9qEbhiiTWy09L4RA==;EndpointSuffix=core.windows.net\"\n",
        "\n",
        "blob = BlobClient.from_connection_string(conn_str=connection_string, container_name=\"datalake\", blob_name=\"/raw-zone/olist/olist_customers_dataset/olist_customers_dataset_with_region.csv\")\n",
        "\n",
        "with open(\"clientes_por_reg/part-00000-e13bc05a-7c86-4d34-b12f-1a30e897fda7-c000.csv\", \"rb\") as data:\n",
        "    blob.upload_blob(data)\n"
      ],
      "metadata": {
        "id": "i-xzc5h0zxoY"
      },
      "execution_count": null,
      "outputs": []
    }
  ]
}